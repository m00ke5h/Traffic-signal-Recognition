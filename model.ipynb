{
 "cells": [
  {
   "cell_type": "code",
   "execution_count": 1,
   "source": [
    "# Importing required packages\n",
    "\n",
    "import numpy as np\n",
    "import pandas as pd\n",
    "import matplotlib.pyplot as plt\n",
    "import tensorflow as tf\n",
    "from PIL import Image\n",
    "import os\n",
    "from sklearn.model_selection import train_test_split\n",
    "from tensorflow.keras.utils import to_categorical\n",
    "from tensorflow.keras.models import Sequential\n",
    "from tensorflow.keras.layers import Conv2D, MaxPool2D, Dense, Flatten, Dropout"
   ],
   "outputs": [
    {
     "output_type": "stream",
     "name": "stderr",
     "text": [
      "2021-10-20 12:26:50.953710: W tensorflow/stream_executor/platform/default/dso_loader.cc:64] Could not load dynamic library 'libcudart.so.11.0'; dlerror: libcudart.so.11.0: cannot open shared object file: No such file or directory; LD_LIBRARY_PATH: /home/xox/catkin_ws/devel/lib:/opt/ros/noetic/lib\n",
      "2021-10-20 12:26:50.968435: I tensorflow/stream_executor/cuda/cudart_stub.cc:29] Ignore above cudart dlerror if you do not have a GPU set up on your machine.\n"
     ]
    }
   ],
   "metadata": {}
  },
  {
   "cell_type": "code",
   "execution_count": 4,
   "source": [
    "# Setting image storage variables anf getting the train directory path\n",
    "\n",
    "data = []\n",
    "labels = []\n",
    "classes = 43\n",
    "cur_path = os.getcwd()\n",
    "print(cur_path)"
   ],
   "outputs": [
    {
     "output_type": "stream",
     "name": "stdout",
     "text": [
      "/home/xox/Projects/GRiP/5 - TSC\n"
     ]
    }
   ],
   "metadata": {}
  },
  {
   "cell_type": "code",
   "execution_count": 6,
   "source": [
    "# Making training image lists\n",
    "\n",
    "for i in range(classes):\n",
    "    path = os.path.join(cur_path, 'train', str(i))\n",
    "    images = os.listdir(path)\n",
    "\n",
    "    for a in images:\n",
    "        try:\n",
    "            image = Image.open(path + '//' + a)\n",
    "            image = image.resize((30, 30))\n",
    "            image = np.array(image)\n",
    "            data.append(image)\n",
    "            labels.append(i)\n",
    "        except:\n",
    "            print(\"Error loading image\")    "
   ],
   "outputs": [],
   "metadata": {}
  },
  {
   "cell_type": "code",
   "execution_count": 7,
   "source": [
    "# Converting lists using numpy array to be processed\n",
    "\n",
    "data = np.array(data)\n",
    "labels = np.array(labels)"
   ],
   "outputs": [],
   "metadata": {}
  },
  {
   "cell_type": "code",
   "execution_count": 8,
   "source": [
    "print(data.shape, labels.shape)\n",
    "#Splitting training and testing dataset\n",
    "X_train, X_test, y_train, y_test = train_test_split(data, labels, test_size=0.2, random_state=42)"
   ],
   "outputs": [
    {
     "output_type": "stream",
     "name": "stdout",
     "text": [
      "(39209, 30, 30, 3) (39209,)\n"
     ]
    }
   ],
   "metadata": {}
  },
  {
   "cell_type": "code",
   "execution_count": 9,
   "source": [
    "print(X_train.shape, X_test.shape, y_train.shape, y_test.shape)"
   ],
   "outputs": [
    {
     "output_type": "stream",
     "name": "stdout",
     "text": [
      "(31367, 30, 30, 3) (7842, 30, 30, 3) (31367,) (7842,)\n"
     ]
    }
   ],
   "metadata": {}
  },
  {
   "cell_type": "code",
   "execution_count": 10,
   "source": [
    "# Converting class vectors to binary class matrix\n",
    "\n",
    "y_train = to_categorical(y_train, 43)\n",
    "y_test = to_categorical(y_test, 43)"
   ],
   "outputs": [],
   "metadata": {}
  },
  {
   "cell_type": "code",
   "execution_count": 15,
   "source": [
    "# Specifying the model\n",
    "\n",
    "model =Sequential() \n",
    "model.add(Conv2D(filters=32, kernel_size=(5,5), activation='relu', input_shape=X_train.shape[1:])) \n",
    "model.add(Conv2D(filters=32, kernel_size=(5,5), activation='relu')) \n",
    "model.add(MaxPool2D(pool_size=(2,2))) \n",
    "model.add(Dropout(rate=0.25)) \n",
    "model.add(Conv2D(filters=64, kernel_size=(3,3), activation='relu'))\n",
    "model.add(Conv2D(filters=64, kernel_size=(3,3), activation='relu'))  \n",
    "model.add(MaxPool2D(pool_size=(2,2))) \n",
    "model.add(Dropout(rate=0.25)) \n",
    "model.add(Flatten()) \n",
    "model.add(Dense(256, activation='relu')) \n",
    "model.add(Dropout(rate=0.5))\n",
    "\n",
    "# We have 43 classes that's why we have defined 43 in the dense \n",
    "model.add(Dense(43, activation='softmax'))"
   ],
   "outputs": [],
   "metadata": {}
  },
  {
   "cell_type": "code",
   "execution_count": 16,
   "source": [
    "# Compilation of the model\n",
    " \n",
    "model.compile(loss='categorical_crossentropy', optimizer='adam', metrics=['accuracy']) \n",
    "epochs = 15 \n",
    "history = model.fit(X_train, y_train, batch_size=32, epochs=epochs, validation_data=(X_test, y_test))"
   ],
   "outputs": [
    {
     "output_type": "stream",
     "name": "stdout",
     "text": [
      "Epoch 1/15\n",
      "981/981 [==============================] - 217s 220ms/step - loss: 1.7139 - accuracy: 0.5708 - val_loss: 0.3511 - val_accuracy: 0.9128\n",
      "Epoch 2/15\n",
      "981/981 [==============================] - 186s 189ms/step - loss: 0.4837 - accuracy: 0.8625 - val_loss: 0.2491 - val_accuracy: 0.9365\n",
      "Epoch 3/15\n",
      "981/981 [==============================] - 195s 199ms/step - loss: 0.3348 - accuracy: 0.9052 - val_loss: 0.1012 - val_accuracy: 0.9741\n",
      "Epoch 4/15\n",
      "981/981 [==============================] - 189s 192ms/step - loss: 0.2657 - accuracy: 0.9250 - val_loss: 0.0669 - val_accuracy: 0.9834\n",
      "Epoch 5/15\n",
      "981/981 [==============================] - 202s 206ms/step - loss: 0.2197 - accuracy: 0.9384 - val_loss: 0.0595 - val_accuracy: 0.9839\n",
      "Epoch 6/15\n",
      "981/981 [==============================] - 184s 187ms/step - loss: 0.2277 - accuracy: 0.9389 - val_loss: 0.1469 - val_accuracy: 0.9573\n",
      "Epoch 7/15\n",
      "981/981 [==============================] - 180s 184ms/step - loss: 0.2207 - accuracy: 0.9407 - val_loss: 0.0735 - val_accuracy: 0.9830\n",
      "Epoch 8/15\n",
      "981/981 [==============================] - 182s 186ms/step - loss: 0.2224 - accuracy: 0.9416 - val_loss: 0.0464 - val_accuracy: 0.9884\n",
      "Epoch 9/15\n",
      "981/981 [==============================] - 184s 188ms/step - loss: 0.1867 - accuracy: 0.9499 - val_loss: 0.0573 - val_accuracy: 0.9839\n",
      "Epoch 10/15\n",
      "981/981 [==============================] - 190s 194ms/step - loss: 0.1802 - accuracy: 0.9518 - val_loss: 0.0663 - val_accuracy: 0.9820\n",
      "Epoch 11/15\n",
      "981/981 [==============================] - 191s 195ms/step - loss: 0.1889 - accuracy: 0.9499 - val_loss: 0.0666 - val_accuracy: 0.9829\n",
      "Epoch 12/15\n",
      "981/981 [==============================] - 183s 187ms/step - loss: 0.2196 - accuracy: 0.9475 - val_loss: 0.0403 - val_accuracy: 0.9907\n",
      "Epoch 13/15\n",
      "981/981 [==============================] - 186s 189ms/step - loss: 0.1570 - accuracy: 0.9597 - val_loss: 0.0404 - val_accuracy: 0.9909\n",
      "Epoch 14/15\n",
      "981/981 [==============================] - 187s 190ms/step - loss: 0.1675 - accuracy: 0.9577 - val_loss: 0.0476 - val_accuracy: 0.9871\n",
      "Epoch 15/15\n",
      "981/981 [==============================] - 194s 198ms/step - loss: 0.1725 - accuracy: 0.9588 - val_loss: 0.0417 - val_accuracy: 0.9893\n"
     ]
    }
   ],
   "metadata": {}
  },
  {
   "cell_type": "code",
   "execution_count": 17,
   "source": [
    "# Saving out finished model\n",
    "\n",
    "model.save(\"model.h5\")"
   ],
   "outputs": [],
   "metadata": {}
  },
  {
   "cell_type": "code",
   "execution_count": 18,
   "source": [
    "# Plotting graphs for accuracy \n",
    " \n",
    "plt.figure(0)\n",
    "plt.plot(history.history['accuracy'], label='training accuracy')\n",
    "plt.plot(history.history['val_accuracy'], label='val accuracy')\n",
    "plt.title('Accuracy')\n",
    "plt.xlabel('epochs')\n",
    "plt.ylabel('accuracy')\n",
    "plt.legend()\n",
    "plt.show()"
   ],
   "outputs": [
    {
     "output_type": "display_data",
     "data": {
      "image/png": "[encoded data removed]",
      "text/plain": [
       "<Figure size 432x288 with 1 Axes>"
      ]
     },
     "metadata": {
      "needs_background": "light"
     }
    }
   ],
   "metadata": {}
  },
  {
   "cell_type": "code",
   "execution_count": 19,
   "source": [
    "# Plotting graphs for loss\n",
    "\n",
    "plt.figure(1)\n",
    "plt.plot(history.history['loss'], label='training loss')\n",
    "plt.plot(history.history['val_loss'], label='val loss')\n",
    "plt.title('Loss')\n",
    "plt.xlabel('epochs')\n",
    "plt.ylabel('loss')\n",
    "plt.legend()\n",
    "plt.show()"
   ],
   "outputs": [
    {
     "output_type": "display_data",
     "data": {
      "image/png": "[encoded data removed]",
      "text/plain": [
       "<Figure size 432x288 with 1 Axes>"
      ]
     },
     "metadata": {
      "needs_background": "light"
     }
    }
   ],
   "metadata": {}
  },
  {
   "cell_type": "code",
   "execution_count": 23,
   "source": [
    "# Testing the model on test dataset\n",
    "\n",
    "from sklearn.metrics import accuracy_score\n",
    "\n",
    "y_test = pd.read_csv('Test.csv')\n",
    "\n",
    "labels = y_test[\"ClassId\"].values\n",
    "imgs = y_test[\"Path\"].values\n",
    "\n",
    "data=[]\n",
    "\n",
    "for img in imgs:\n",
    "    image = Image.open(img)\n",
    "    image = image.resize((30,30))\n",
    "    data.append(np.array(image))\n",
    "\n",
    "X_test=np.array(data)\n",
    "\n",
    "pred = model.predict(X_test)\n",
    "classes = np.argmax(pred, axis=1)"
   ],
   "outputs": [],
   "metadata": {}
  },
  {
   "cell_type": "code",
   "execution_count": 30,
   "source": [
    "# Accuracy with the test data\n",
    "\n",
    "from sklearn.metrics import accuracy_score\n",
    "print(f'Accuracy: {round(accuracy_score(labels, classes)*100, 2)}%')"
   ],
   "outputs": [
    {
     "output_type": "stream",
     "name": "stdout",
     "text": [
      "Accuracy: 96.04%\n"
     ]
    }
   ],
   "metadata": {}
  },
  {
   "cell_type": "markdown",
   "source": [
    "# Now we will test our model using a Flask app"
   ],
   "metadata": {}
  },
  {
   "cell_type": "markdown",
   "source": [],
   "metadata": {}
  }
 ],
 "metadata": {
  "orig_nbformat": 4,
  "language_info": {
   "name": "python",
   "version": "3.8.10",
   "mimetype": "text/x-python",
   "codemirror_mode": {
    "name": "ipython",
    "version": 3
   },
   "pygments_lexer": "ipython3",
   "nbconvert_exporter": "python",
   "file_extension": ".py"
  },
  "kernelspec": {
   "name": "python3",
   "display_name": "Python 3.8.10 64-bit ('venv': venv)"
  },
  "interpreter": {
   "hash": "f35fc84913d1b1c5556d98f88386deb03788efef28edab821e5de78280b852d2"
  }
 },
 "nbformat": 4,
 "nbformat_minor": 2
}